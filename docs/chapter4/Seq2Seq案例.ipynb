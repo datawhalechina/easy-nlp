{
 "cells": [
  {
   "cell_type": "markdown",
   "id": "44c9226c158d56f1",
   "metadata": {
    "collapsed": false
   },
   "source": [
    "- 第一步: 导入必备的工具包.\n",
    "- 第二步: 对持久化文件中数据进行处理, 以满足模型训练要求.\n",
    "- 第三步: 构建基于GRU的编码器和解码器.\n",
    "- 第四步: 构建模型训练函数, 并进行训练.\n",
    "- 第五步: 构建模型评估函数, 并进行测试以及Attention效果分析."
   ]
  },
  {
   "cell_type": "code",
   "execution_count": 1,
   "id": "initial_id",
   "metadata": {
    "ExecuteTime": {
     "end_time": "2024-04-28T04:16:09.672695Z",
     "start_time": "2024-04-28T04:16:04.787567Z"
    },
    "collapsed": true
   },
   "outputs": [],
   "source": [
    "import torch\n",
    "import torch.nn as nn\n",
    "import torch.nn.functional as F\n",
    "from torch import optim\n",
    "import unicodedata\n",
    "import re\n",
    "import random\n",
    "from io import open\n",
    "\n",
    "device = torch.device(\"cuda\" if torch.cuda.is_available() else \"cpu\")"
   ]
  },
  {
   "cell_type": "markdown",
   "id": "f4e5e02a74560c8e",
   "metadata": {
    "collapsed": false
   },
   "source": [
    "# 处理数据\n",
    "1. 定义Lang类,用来存储我们输入语言的词表数据,和需要预测的语言的词表数据\n",
    "2. 字符规范化\n",
    "3. 加载数据\n",
    "4. 过滤我们需要训练的数据\n",
    "5. 定义预处理数据函数\n",
    "6. 定义文本转张量函数"
   ]
  },
  {
   "cell_type": "code",
   "execution_count": 2,
   "id": "76568c767daff656",
   "metadata": {
    "ExecuteTime": {
     "end_time": "2024-04-28T04:16:09.688691Z",
     "start_time": "2024-04-28T04:16:09.676692Z"
    },
    "collapsed": false
   },
   "outputs": [],
   "source": [
    "SOS_TOKEN = 0\n",
    "EOS_TOKEN = 1\n",
    "\n",
    "\n",
    "class Lang:\n",
    "    def __init__(self, language):\n",
    "        self.language = language\n",
    "        self.size = 2\n",
    "        self.word2index = {}\n",
    "        self.index2word = {0: 'SOS', 1: 'EOS'}\n",
    "\n",
    "    def AddWord(self, word):\n",
    "        if word not in self.word2index:\n",
    "            self.word2index[word] = self.size\n",
    "            self.index2word[self.size] = word\n",
    "            self.size += 1\n",
    "\n",
    "    def AddSentence(self, sentence):\n",
    "        for word in sentence.split(\" \"):\n",
    "            self.AddWord(word)"
   ]
  },
  {
   "cell_type": "markdown",
   "id": "c3dfad2d",
   "metadata": {},
   "source": []
  },
  {
   "cell_type": "code",
   "execution_count": 3,
   "id": "ef47e68cb4e99579",
   "metadata": {
    "ExecuteTime": {
     "end_time": "2024-04-28T04:16:09.703689Z",
     "start_time": "2024-04-28T04:16:09.692692Z"
    },
    "collapsed": false
   },
   "outputs": [],
   "source": [
    "# 字符规范化\n",
    "def unicodeToAscii(text):\n",
    "    return ''.join(c for c in unicodedata.normalize('NFD', text) if unicodedata.category(c) != 'Mn')\n",
    "\n",
    "\n",
    "def normalizeString(text):\n",
    "    \"\"\"字符串规范化函数, 参数s代表传入的字符串\"\"\"\n",
    "    # 使字符变为小写并去除两侧空白符, z再使用unicodeToAscii去掉重音标记\n",
    "    s = unicodeToAscii(text.lower().strip())\n",
    "    # 在.!?前加一个空格\n",
    "    s = re.sub(r\"([.!?])\", r\" \\1\", s)\n",
    "    # 使用正则表达式将字符串中不是大小写字母和正常标点的都替换成空格\n",
    "    s = re.sub(r\"[^a-zA-Z.!?]+\", r\" \", s)\n",
    "    return s"
   ]
  },
  {
   "cell_type": "code",
   "execution_count": 4,
   "id": "43513da5a1a3e924",
   "metadata": {
    "ExecuteTime": {
     "end_time": "2024-04-28T04:16:09.719688Z",
     "start_time": "2024-04-28T04:16:09.707689Z"
    },
    "collapsed": false
   },
   "outputs": [],
   "source": [
    "# 数据加载函数\n",
    "path = 'data/data1/eng-fra.txt'\n",
    "\n",
    "\n",
    "def readLangs(path, input_lang, output_lang):\n",
    "    data = open(path, encoding='utf-8').read().split('\\n')\n",
    "    pairs = [[normalizeString(text) for text in l.split('\\t')] for l in data]\n",
    "    input_lang = Lang(input_lang)\n",
    "    output_lang = Lang(output_lang)\n",
    "    return input_lang, output_lang, pairs"
   ]
  },
  {
   "cell_type": "code",
   "execution_count": 5,
   "id": "8dd0d80c7117df1c",
   "metadata": {
    "ExecuteTime": {
     "end_time": "2024-04-28T04:16:15.766341Z",
     "start_time": "2024-04-28T04:16:09.721689Z"
    },
    "collapsed": false
   },
   "outputs": [
    {
     "name": "stdout",
     "output_type": "stream",
     "text": [
      "input_lang: <__main__.Lang object at 0x000001EB46588EE0>\n",
      "output_lang: <__main__.Lang object at 0x000001EB46613C70>\n",
      "pairs中的前五个: [['go .', 'va !'], ['run !', 'cours !'], ['run !', 'courez !'], ['wow !', 'ca alors !'], ['fire !', 'au feu !']]\n"
     ]
    }
   ],
   "source": [
    "# 测试\n",
    "lang1 = \"eng\"\n",
    "lang2 = \"fra\"\n",
    "input_lang, output_lang, pairs = readLangs(path, lang1, lang2)\n",
    "print(\"input_lang:\", input_lang)\n",
    "print(\"output_lang:\", output_lang)\n",
    "print(\"pairs中的前五个:\", pairs[:5])"
   ]
  },
  {
   "cell_type": "code",
   "execution_count": 6,
   "id": "b1610d3ede42d88a",
   "metadata": {
    "ExecuteTime": {
     "end_time": "2024-04-28T04:16:15.781346Z",
     "start_time": "2024-04-28T04:16:15.769343Z"
    },
    "collapsed": false
   },
   "outputs": [],
   "source": [
    "# 过滤我们需要的数据\n",
    "# 设置组成句子中单词或标点的最多个数\n",
    "MAX_LENGTH = 10\n",
    "\n",
    "# 选择带有指定前缀的语言特征数据作为训练数据\n",
    "eng_prefixes = (\n",
    "    \"i am \", \"i m \",\n",
    "    \"he is\", \"he s \",\n",
    "    \"she is\", \"she s \",\n",
    "    \"you are\", \"you re \",\n",
    "    \"we are\", \"we re \",\n",
    "    \"they are\", \"they re \"\n",
    ")\n",
    "\n",
    "\n",
    "def filterPair(p):\n",
    "    # 检查是否满足前缀开头\n",
    "    is_prefixe = any(p[0].startswith(prefixe) for prefixe in eng_prefixes)\n",
    "    return len(p[0].split()) < MAX_LENGTH and is_prefixe and len(p[1].split()) < MAX_LENGTH\n",
    "\n",
    "\n",
    "def filterPairs(pairs):\n",
    "    return [pair for pair in pairs if filterPair(pair)]"
   ]
  },
  {
   "cell_type": "code",
   "execution_count": 7,
   "id": "7d4ad2e5646ea288",
   "metadata": {
    "ExecuteTime": {
     "end_time": "2024-04-28T04:16:15.797341Z",
     "start_time": "2024-04-28T04:16:15.783339Z"
    },
    "collapsed": false
   },
   "outputs": [],
   "source": [
    "# 定义文本预处理函数\n",
    "def preprocess(path, input_lang, output_lang):\n",
    "    input_lang, output_lang, pairs = readLangs(path, input_lang, output_lang)\n",
    "    pairs = filterPairs(pairs)\n",
    "    # 对过滤后的数据进行遍历,初始化对应的语言类\n",
    "    for pair in pairs:\n",
    "        input_lang.AddSentence(pair[0])\n",
    "        output_lang.AddSentence(pair[1])\n",
    "    return input_lang, output_lang, pairs"
   ]
  },
  {
   "cell_type": "code",
   "execution_count": 8,
   "id": "1abb81c3ee1c9bdb",
   "metadata": {
    "ExecuteTime": {
     "end_time": "2024-04-28T04:16:21.277243Z",
     "start_time": "2024-04-28T04:16:15.799346Z"
    },
    "collapsed": false
   },
   "outputs": [
    {
     "name": "stdout",
     "output_type": "stream",
     "text": [
      "input_n_words: 2803\n",
      "output_n_words: 4345\n",
      "['i m surprised to see you .', 'je suis surpris de vous voir .']\n"
     ]
    }
   ],
   "source": [
    "# 测试\n",
    "input_lang, output_lang, pairs = preprocess(path, 'eng', 'fra')\n",
    "print(\"input_n_words:\", input_lang.size)\n",
    "print(\"output_n_words:\", output_lang.size)\n",
    "print(random.choice(pairs))"
   ]
  },
  {
   "cell_type": "code",
   "execution_count": 88,
   "id": "7dfd47339f5fd403",
   "metadata": {
    "ExecuteTime": {
     "end_time": "2024-04-28T04:35:20.611591Z",
     "start_time": "2024-04-28T04:35:20.599590Z"
    },
    "collapsed": false
   },
   "outputs": [],
   "source": [
    "# 文本张量化\n",
    "def TensorFormSentence(Lang, sentence):\n",
    "    indexes = [Lang.word2index[word] for word in sentence.split(' ')]\n",
    "    indexes.append(EOS_TOKEN)\n",
    "    return torch.tensor(indexes, dtype=torch.long, device=device).view(-1, 1)\n",
    "\n",
    "\n",
    "def TensorFormPairs(input_lang, output_lang, pair):\n",
    "    input_tensor = TensorFormSentence(input_lang, pair[0])\n",
    "    output_tensor = TensorFormSentence(output_lang, pair[1])\n",
    "    return (input_tensor, output_tensor)"
   ]
  },
  {
   "cell_type": "code",
   "execution_count": 10,
   "id": "9fc47c5c734002bf",
   "metadata": {
    "ExecuteTime": {
     "end_time": "2024-04-28T04:16:21.465280Z",
     "start_time": "2024-04-28T04:16:21.298245Z"
    },
    "collapsed": false
   },
   "outputs": [
    {
     "data": {
      "text/plain": [
       "(tensor([2, 3, 4, 1], device='cuda:0'),\n",
       " tensor([2, 3, 4, 5, 1], device='cuda:0'))"
      ]
     },
     "execution_count": 10,
     "metadata": {},
     "output_type": "execute_result"
    }
   ],
   "source": [
    "pair = pairs[0]\n",
    "pair_tensor = TensorFormPairs(input_lang, output_lang, pair)\n",
    "pair_tensor"
   ]
  },
  {
   "cell_type": "code",
   "execution_count": 11,
   "id": "1e4aaff397143e48",
   "metadata": {
    "ExecuteTime": {
     "end_time": "2024-04-28T04:16:21.481277Z",
     "start_time": "2024-04-28T04:16:21.468247Z"
    },
    "collapsed": false
   },
   "outputs": [],
   "source": [
    "# 构建GRU编码器\n",
    "class Encoder(nn.Module):\n",
    "    def __init__(self, input_size, hidden_size):\n",
    "        super(Encoder, self).__init__()\n",
    "        self.hidden_size = hidden_size\n",
    "        self.embedding = nn.Embedding(input_size, hidden_size, device=device)\n",
    "        self.gru = nn.GRU(hidden_size, hidden_size, device=device)\n",
    "\n",
    "    def forward(self, input_tensor, hidden):\n",
    "        input_tensor = self.embedding(input_tensor).view(1, 1, -1)\n",
    "        input_tensor, hidden = self.gru(input_tensor, hidden.to(device))\n",
    "        return input_tensor, hidden\n",
    "\n",
    "    def init_hidden(self, batch_size=1):\n",
    "        return torch.zeros(batch_size, 1, self.hidden_size, device=device)"
   ]
  },
  {
   "cell_type": "code",
   "execution_count": 36,
   "id": "db357634fb6150d7",
   "metadata": {
    "ExecuteTime": {
     "end_time": "2024-04-28T04:21:41.517868Z",
     "start_time": "2024-04-28T04:21:41.484828Z"
    },
    "collapsed": false
   },
   "outputs": [],
   "source": [
    "# 构建带有注意力机制的GRU解码器\n",
    "class AttentionDecoder(nn.Module):\n",
    "    def __init__(self, hidden_size, output_size, dropout=0.1, max_length=MAX_LENGTH):\n",
    "        super(AttentionDecoder, self).__init__()\n",
    "        # 记录参数\n",
    "        self.hidden_size = hidden_size\n",
    "        self.output_size = output_size\n",
    "        self.dropout = dropout\n",
    "        self.max_length = max_length\n",
    "        # 定义Embedding层\n",
    "        self.embedding = nn.Embedding(output_size, hidden_size, device=device)\n",
    "        # 定义注意力层\n",
    "        self.attn = nn.Linear(2 * hidden_size, self.max_length).to(device)\n",
    "        # 定义attn_combine层\n",
    "        self.attn_combine = nn.Linear(2 * hidden_size, self.hidden_size).to(device)\n",
    "        # 实例化gru层\n",
    "        self.gru = nn.GRU(hidden_size, hidden_size).to(device)\n",
    "        # 定义dropout层\n",
    "        self.Dropout = nn.Dropout(dropout).to(device)\n",
    "        # 定义最后的线性输出层\n",
    "        self.linear = nn.Linear(hidden_size, output_size).to(device)\n",
    "\n",
    "    def forward(self, input, hidden, encoder_outputs):\n",
    "        # 进行打分函数计算\n",
    "        input = input.to(device)\n",
    "        hidden = hidden.to(device)\n",
    "        encoder_outputs = encoder_outputs.to(device)\n",
    "\n",
    "        embedded = self.Dropout(self.embedding(input).view(1, 1, -1))\n",
    "        attn_weights = F.softmax(self.attn(torch.cat((embedded[0], hidden[0]), dim=1)), dim=1)\n",
    "        # 进行bmm操作\n",
    "        attn_applied = torch.bmm(attn_weights.unsqueeze(0), encoder_outputs.unsqueeze(0))\n",
    "        # 进入attn_combine \n",
    "        output = torch.cat((embedded[0], attn_applied[0]), 1)\n",
    "        output = self.attn_combine(output).unsqueeze(0)\n",
    "        # 经过relu激活\n",
    "        output = F.relu(output)\n",
    "        # 输入gru\n",
    "        output, hidden = self.gru(output, hidden)\n",
    "        output = self.linear(output[0])\n",
    "        output = F.log_softmax(output, dim=1)\n",
    "        return output, hidden, attn_weights\n",
    "\n",
    "    def init_hidden(self, batch_size=1):\n",
    "        return torch.zeros(1, batch_size, self.hidden_size)"
   ]
  },
  {
   "cell_type": "code",
   "execution_count": 37,
   "id": "f7570d8371cfc0a4",
   "metadata": {
    "ExecuteTime": {
     "end_time": "2024-04-28T04:21:41.894916Z",
     "start_time": "2024-04-28T04:21:41.867918Z"
    },
    "collapsed": false
   },
   "outputs": [
    {
     "name": "stdout",
     "output_type": "stream",
     "text": [
      "tensor([[-2.0098, -2.1735, -2.3564, -2.4284, -2.3275, -2.4741, -2.3205, -2.2185,\n",
      "         -2.4993, -2.3192]], device='cuda:0', grad_fn=<LogSoftmaxBackward0>)\n",
      "torch.Size([1, 10])\n",
      "tensor([[0.0690, 0.1090, 0.0874, 0.0823, 0.0576, 0.1028, 0.1511, 0.1281, 0.0946,\n",
      "         0.1181]], device='cuda:0', grad_fn=<SoftmaxBackward0>)\n",
      "tensor([[[-0.0308,  0.0285,  0.1646,  0.0762, -0.1368,  0.0716, -0.0729,\n",
      "          -0.0278,  0.0618, -0.0442, -0.0019,  0.0973,  0.1781, -0.0251,\n",
      "          -0.1610,  0.1483, -0.1337,  0.1648, -0.0880, -0.0563,  0.0426,\n",
      "          -0.1609, -0.0361,  0.1384, -0.0420]]], device='cuda:0',\n",
      "       grad_fn=<CudnnRnnBackward0>)\n"
     ]
    }
   ],
   "source": [
    "hidden_size = 25\n",
    "output_size = 10\n",
    "# 输出法文的第一个单词的张量\n",
    "input = pair_tensor[1][0]\n",
    "hidden = torch.zeros(1, 1, hidden_size)\n",
    "encoder_output = torch.randn(10, 25)\n",
    "\n",
    "decoder_attn = AttentionDecoder(hidden_size, output_size)\n",
    "output, hidden, attn_weights = decoder_attn(input, hidden, encoder_output)\n",
    "print(output)\n",
    "print(output.shape)\n",
    "print(attn_weights)\n",
    "print(hidden)"
   ]
  },
  {
   "cell_type": "code",
   "execution_count": 89,
   "id": "94f3c7e97a3d6405",
   "metadata": {
    "ExecuteTime": {
     "end_time": "2024-04-28T04:35:39.101668Z",
     "start_time": "2024-04-28T04:35:39.068718Z"
    },
    "collapsed": false
   },
   "outputs": [],
   "source": [
    "# 定义单个句子的训练函数,引入teacher_force机制\n",
    "teacher_force = 0.5\n",
    "\n",
    "\n",
    "def train(input_tensor, output_tensor, encoder, decoder, encoder_optimizer, decoder_optimizer, criterion, max_length=MAX_LENGTH):\n",
    "    \"\"\"\n",
    "    \n",
    "    :param input_tensor: 源语言输入张量\n",
    "    :param output_tensor: 目标语言输入张量\n",
    "    :param encoder: 编码器实例化对象\n",
    "    :param decoder: 解码器实例化对象\n",
    "    :param encoder_optimizer: 编码器优化方法\n",
    "    :param decoder_optimizer: 解码器优化方法\n",
    "    :param criterion: 损失函数计算方法\n",
    "    :param max_length: 句子的最大长度\n",
    "    :return: \n",
    "    \"\"\"\n",
    "    encoder_optimizer.zero_grad()\n",
    "    decoder_optimizer.zero_grad()\n",
    "\n",
    "    # 获取输入文本和目标文本长度\n",
    "    input_length = input_tensor.size(0)\n",
    "    output_length = output_tensor.size(0)\n",
    "    encoder_hidden = encoder.init_hidden()\n",
    "    # 构建encoder_outputs\n",
    "    encoder_outputs = torch.zeros(max_length, encoder.hidden_size).to(device)\n",
    "    # 初始化损失值\n",
    "    loss = 0\n",
    "    # 训练编码器\n",
    "    for i in range(input_length):\n",
    "        encoder_output, encoder_hidden = encoder(input_tensor[i], encoder_hidden)\n",
    "        # 只要最后的词向量层\n",
    "        encoder_outputs[i] = encoder_output[0, 0]\n",
    "\n",
    "    # 训练解码器\n",
    "    # 初始化第一个输入字符\n",
    "    input_decoder = torch.tensor([[SOS_TOKEN]], device=device, dtype=torch.long)\n",
    "    # 判断是否要实施teacher_force机制\n",
    "    use_teacher_force = True if teacher_force > random.random() else False\n",
    "    decoder_hidden = encoder_hidden\n",
    "    if use_teacher_force:\n",
    "        for i in range(output_length):\n",
    "            output, encoder_hidden, attn_weights = decoder(input_decoder, decoder_hidden, encoder_outputs)\n",
    "            loss += criterion(output, output_tensor[i])\n",
    "            # 使用teacher_force进行纠正\n",
    "            input_decoder = output_tensor[i]\n",
    "\n",
    "    else:\n",
    "        for i in range(output_length):\n",
    "            output, encoder_hidden, attn_weights = decoder(input_decoder, decoder_hidden, encoder_outputs)\n",
    "            loss += criterion(output, output_tensor[i])\n",
    "            topv, topi = output.topk(1)\n",
    "            if topi.item() == EOS_TOKEN:\n",
    "                break\n",
    "            \n",
    "            input_decoder = topi.squeeze().detach()\n",
    "    # 方向传播,更新优化器\n",
    "    loss.backward()\n",
    "    # 更新参数\n",
    "    encoder_optimizer.step()\n",
    "    decoder_optimizer.step()\n",
    "    return loss.item() // output_length"
   ]
  },
  {
   "cell_type": "code",
   "execution_count": 90,
   "id": "3a61fb09af9fa412",
   "metadata": {
    "ExecuteTime": {
     "end_time": "2024-04-28T04:35:40.520413Z",
     "start_time": "2024-04-28T04:35:40.496383Z"
    },
    "collapsed": false
   },
   "outputs": [],
   "source": [
    "# 构建时间计算器\n",
    "import time\n",
    "import math\n",
    "\n",
    "\n",
    "def timeSince(since):\n",
    "    now = time.time()\n",
    "    s = now - since\n",
    "    m = math.floor(s / 60)\n",
    "    s -= m * 60\n",
    "    return '%dm %ds' % (m, s)"
   ]
  },
  {
   "cell_type": "code",
   "execution_count": 92,
   "id": "7fb20e8670590207",
   "metadata": {
    "ExecuteTime": {
     "end_time": "2024-04-28T04:35:45.728459Z",
     "start_time": "2024-04-28T04:35:45.691509Z"
    },
    "collapsed": false
   },
   "outputs": [],
   "source": [
    "# 定义整体训练函数\n",
    "import matplotlib.pyplot as plt\n",
    "from tqdm import tqdm\n",
    "\n",
    "\n",
    "def trainIters(encoder, decoder, n_iters, plot_every=100, learning_rate=0.001):\n",
    "    \"\"\"\n",
    "    \n",
    "    :param encoder: 编码器对象\n",
    "    :param decoder: 解码器对象\n",
    "    :param n_iters: 总迭代步数\n",
    "    :param plot_every: 绘制损失曲线间隔\n",
    "    :param learning_rate: 学习率\n",
    "    :return: \n",
    "    \"\"\"\n",
    "    # 获得训练开始时间戳\n",
    "    start = time.time()\n",
    "    # 存储平均损失列表\n",
    "    plot_loss = []\n",
    "    # 当前轮次\n",
    "    curr_iter = 1\n",
    "    # 每个绘制区间的总损失\n",
    "    plot_loss_total = 0\n",
    "    total_loss = 0\n",
    "    # 定义优化器\n",
    "    encoder_optimizer = optim.SGD(encoder.parameters(), lr=learning_rate)\n",
    "    decoder_optimizer = optim.SGD(decoder.parameters(), lr=learning_rate)\n",
    "    # 选择损失函数\n",
    "    criterion = nn.NLLLoss()\n",
    "    tbar = tqdm(range(n_iters), desc='epoch', leave=False)\n",
    "    for epoch in tbar:\n",
    "        curr_iter += 1\n",
    "        train_pair = TensorFormPairs(input_lang, output_lang, random.choice(pairs))\n",
    "        input_tensor = train_pair[0]\n",
    "        output_tensor = train_pair[1]\n",
    "        # 获取损失函数\n",
    "        loss = train(input_tensor, output_tensor, encoder, decoder, encoder_optimizer, decoder_optimizer, criterion)\n",
    "        # 将损失累计\n",
    "        plot_loss_total += loss\n",
    "        total_loss += loss\n",
    "        if curr_iter % plot_every == 0:\n",
    "            plot_loss_avg = plot_loss_total // plot_every\n",
    "            plot_loss.append(plot_loss_avg)\n",
    "            # 总损失归零\n",
    "            plot_loss_total = 0\n",
    "\n",
    "        tbar.set_postfix(epoch=f'{curr_iter - 1:02d}/{n_iters}', loss=f\"{total_loss / curr_iter:.4f}\",\n",
    "                         time=f'{timeSince(start)}')\n",
    "        # 绘制损失曲线\n",
    "    plt.figure()\n",
    "    plt.plot(plot_loss)\n",
    "    plt.show()"
   ]
  },
  {
   "cell_type": "code",
   "execution_count": 93,
   "id": "c66b8d473ad5936d",
   "metadata": {
    "ExecuteTime": {
     "end_time": "2024-04-28T04:38:43.403347Z",
     "start_time": "2024-04-28T04:35:45.974460Z"
    },
    "collapsed": false
   },
   "outputs": [
    {
     "name": "stderr",
     "output_type": "stream",
     "text": [
      "                                                                                                     \r"
     ]
    },
    {
     "data": {
      "image/png": "[encoded data removed]",
      "text/plain": [
       "<Figure size 640x480 with 1 Axes>"
      ]
     },
     "metadata": {},
     "output_type": "display_data"
    }
   ],
   "source": [
    "# 设置隐层大小为256 ，也是词嵌入维度      \n",
    "hidden_size = 256\n",
    "# 通过input_lang.n_words获取输入词汇总数，与hidden_size一同传入EncoderRNN类中\n",
    "# 得到编码器对象encoder1\n",
    "encoder1 = Encoder(input_lang.size, hidden_size).to(device)\n",
    "\n",
    "# 通过output_lang.n_words获取目标词汇总数，与hidden_size和dropout_p一同传入AttnDecoderRNN类中\n",
    "# 得到解码器对象attn_decoder1\n",
    "attn_decoder1 = AttentionDecoder(hidden_size, output_lang.size, dropout=0.1).to(device)\n",
    "\n",
    "# 设置迭代步数 \n",
    "n_iters = 5000\n",
    "\n",
    "# 调用trainIters进行模型训练，将编码器对象encoder1，码器对象attn_decoder1，迭代步数，日志打印间隔传入其中\n",
    "trainIters(encoder1, attn_decoder1, n_iters)"
   ]
  },
  {
   "cell_type": "code",
   "execution_count": 102,
   "id": "93aa4bf38a2aadd9",
   "metadata": {
    "ExecuteTime": {
     "end_time": "2024-04-28T04:40:07.522851Z",
     "start_time": "2024-04-28T04:40:07.495861Z"
    },
    "collapsed": false
   },
   "outputs": [],
   "source": [
    "# 构建评估函数\n",
    "# 构建评估函数\n",
    "def evaluate(encoder, decoder, sentence, max_length=MAX_LENGTH):\n",
    "    with torch.no_grad():\n",
    "        input_tensor = TensorFormSentence(input_lang, sentence)\n",
    "        # 获取句子长度\n",
    "        input_length = input_tensor.size()[0]\n",
    "        # 初始化编码器隐藏层张量\n",
    "        input_hidden = encoder.init_hidden()\n",
    "        # 初始化编码器输出张量\n",
    "        encoder_outputs = torch.zeros(max_length, encoder.hidden_size, device=device)\n",
    "        \n",
    "        # 循环遍历输入张量索引\n",
    "        for ei in range(input_length):\n",
    "            encoder_output, input_hidden = encoder(input_tensor[ei], input_hidden)\n",
    "            # 将三维输出降低到一维,赋值给encoder_outputs\n",
    "            encoder_outputs[ei] = encoder_output[0,0]\n",
    "        \n",
    "        # 初始化解码器\n",
    "        decoder_input = torch.tensor([[SOS_TOKEN]], device=device)\n",
    "        # 解码器隐藏层\n",
    "        decoder_hidden = decoder.init_hidden()\n",
    "        # 初始化预测词汇列表\n",
    "        decoder_words = []\n",
    "        # 初始化attention张量,用来画图\n",
    "        decoder_attentions = torch.zeros(max_length, max_length)\n",
    "        # 遍历解码器\n",
    "        for di in range(max_length):\n",
    "            # 将张量送入解码器\n",
    "            decoder_output, decoder_hidden, decoder_attention = decoder(decoder_input, decoder_hidden, encoder_outputs)\n",
    "            # 将注意力张量保存\n",
    "            decoder_attentions[di] = decoder_attention.data\n",
    "            # 按照最大概率来估值\n",
    "            topv, topi = decoder_output.topk(1)\n",
    "            if topi.item() == EOS_TOKEN:\n",
    "                decoder_words.append('<EOS>')\n",
    "                break\n",
    "            else:\n",
    "                # 添加预测的法文\n",
    "                decoder_words.append(output_lang.index2word[topi.item()])\n",
    "            # 将最后一步的预测标签作为下一步单独输入, topi是三维,要减低维度\n",
    "            decoder_input = topi.squeeze().detach()\n",
    "        return decoder_words, decoder_attentions[:di+1]"
   ]
  },
  {
   "cell_type": "code",
   "execution_count": 103,
   "id": "913c98fd9f989fa",
   "metadata": {
    "ExecuteTime": {
     "end_time": "2024-04-28T04:40:08.026742Z",
     "start_time": "2024-04-28T04:40:07.904328Z"
    },
    "collapsed": false
   },
   "outputs": [
    {
     "name": "stdout",
     "output_type": "stream",
     "text": [
      "输入> they re asian .\n",
      "输出> ils sont asiatiques .\n",
      "预测结果> je suis suis tres <EOS>\n",
      "\n",
      "输入> i m hardworking .\n",
      "输出> je suis appliquee .\n",
      "预测结果> je suis suis suis tres <EOS>\n",
      "\n",
      "输入> i m at the end of my rope .\n",
      "输出> pour moi c est la fin des haricots .\n",
      "预测结果> je suis suis suis tres <EOS>\n",
      "\n",
      "输入> i m declaring an emergency .\n",
      "输出> je lance un signal de detresse .\n",
      "预测结果> je suis suis suis tres <EOS>\n",
      "\n",
      "输入> you re very religious aren t you ?\n",
      "输出> vous etes tres religieux n est ce pas ?\n",
      "预测结果> je suis suis suis tres <EOS>\n",
      "\n",
      "输入> they re boring .\n",
      "输出> elles sont ennuyeuses .\n",
      "预测结果> je suis suis suis tres <EOS>\n"
     ]
    }
   ],
   "source": [
    "# 随机选择一个文本对进行调用\n",
    "def evaluateRandomly(encoder, decoder, n=6):\n",
    "    for i in range(n):\n",
    "        # 随机选择语言对\n",
    "        pair = random.choice(pairs)\n",
    "        # 打印输入\n",
    "        print('输入>', pair[0])\n",
    "        # 打印输出\n",
    "        print('输出>', pair[1])\n",
    "        # 调用evaluate预测\n",
    "        output_words, output_attn = evaluate(encoder,decoder,pair[0])\n",
    "        output_sentence = ' '.join(output_words)\n",
    "        print('预测结果>',output_sentence)\n",
    "        print('')\n",
    "        \n",
    "evaluateRandomly(encoder1,attn_decoder1)"
   ]
  },
  {
   "cell_type": "code",
   "execution_count": 104,
   "id": "3eeeb1d34eb46c26",
   "metadata": {
    "ExecuteTime": {
     "end_time": "2024-04-28T04:40:42.903853Z",
     "start_time": "2024-04-28T04:40:42.626953Z"
    },
    "collapsed": false
   },
   "outputs": [
    {
     "name": "stdout",
     "output_type": "stream",
     "text": [
      "['je', 'suis', 'suis', 'suis', 'tres', '<EOS>']\n"
     ]
    },
    {
     "data": {
      "text/plain": [
       "<matplotlib.image.AxesImage at 0x1ec28eab280>"
      ]
     },
     "execution_count": 104,
     "metadata": {},
     "output_type": "execute_result"
    },
    {
     "data": {
      "image/png": "[encoded data removed]",
      "text/plain": [
       "<Figure size 800x480 with 1 Axes>"
      ]
     },
     "metadata": {},
     "output_type": "display_data"
    }
   ],
   "source": [
    "# Attention张量制图\n",
    "sentence = \"we re both teachers .\"\n",
    "# 调用评估函数\n",
    "output_words, attentions = evaluate(\n",
    "encoder1, attn_decoder1, sentence)\n",
    "print(output_words)\n",
    "# 将attention张量转化成numpy, 使用matshow绘制\n",
    "plt.matshow(attentions.numpy())"
   ]
  },
  {
   "cell_type": "code",
   "execution_count": null,
   "id": "cc6dd5a543610ac8",
   "metadata": {
    "collapsed": false
   },
   "outputs": [],
   "source": []
  }
 ],
 "metadata": {
  "kernelspec": {
   "display_name": "Python 3",
   "language": "python",
   "name": "python3"
  },
  "language_info": {
   "codemirror_mode": {
    "name": "ipython",
    "version": 2
   },
   "file_extension": ".py",
   "mimetype": "text/x-python",
   "name": "python",
   "nbconvert_exporter": "python",
   "pygments_lexer": "ipython2",
   "version": "2.7.6"
  }
 },
 "nbformat": 4,
 "nbformat_minor": 5
}
