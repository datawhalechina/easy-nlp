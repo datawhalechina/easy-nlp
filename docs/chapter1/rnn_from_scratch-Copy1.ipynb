{
 "cells": [
  {
   "cell_type": "markdown",
   "id": "1bbc26a7-be2e-45d6-96c0-e50edd84e5f0",
   "metadata": {},
   "source": [
    "# RNN 简介\n",
    "\n",
    "# 时间序列模型概念简介\n",
    "循环神经网络（RNN）是一种神经网络类型，其神经元的输出在下一个时间步会反馈作为输入，使网络具有处理序列数据的能力。它能处理变长序列，挖掘数据中的时序信息，不过存在长期依赖问题，即难以处理长序列中相距较远的信息关联。\n",
    "RNN与普通神经网络的主要区别在于其具有记忆功能，神经元的输出能作为下一步输入，可处理序列数据，且输入和输出长度不固定；普通神经网络一般处理独立同分布的数据，层与层之间是简单的前馈连接关系，输入输出的长度通常是固定的。\n",
    "\n",
    "RNN的应用场景广泛，在自然语言处理方面，可用于语言模型来预测下一个单词的概率，还能完成机器翻译、文本生成任务；在语音识别领域，能够处理语音这种时间序列信号，提高识别准确率；在时间序列预测中，像股票价格预测、天气预测等，RNN通过学习历史数据模式预测未来值；在视频分析中，它可以处理视频帧序列，进行动作识别等操作。\n",
    "\n",
    "\n",
    "\n",
    "\n",
    "\n",
    "# RNN网络结构图\n",
    "![图1](images/rnn.png)"
   ]
  },
  {
   "cell_type": "markdown",
   "id": "5eed32eb-d5dc-4fe6-9164-3d621a98d2fa",
   "metadata": {},
   "source": [
    "RNN公式：\n",
    "![rnn_rule](images/rnn_rule.png)"
   ]
  },
  {
   "cell_type": "markdown",
   "id": "51511bf4-3182-4f3d-8482-5f36d3ab755b",
   "metadata": {},
   "source": [
    "# 观察torch.nn.RNN的输入输出"
   ]
  },
  {
   "cell_type": "code",
   "execution_count": 1,
   "id": "e152dd0d-8abf-46d3-85d4-f418335ad2f5",
   "metadata": {},
   "outputs": [],
   "source": [
    "import torch\n",
    "import torch.nn as nn"
   ]
  },
  {
   "cell_type": "code",
   "execution_count": 2,
   "id": "98eb8147-8728-49ac-b7ec-bbd4c85e27bf",
   "metadata": {},
   "outputs": [
    {
     "name": "stdout",
     "output_type": "stream",
     "text": [
      "tensor([[[ 0.6290,  0.0402, -0.5033],\n",
      "         [ 0.0400, -0.9701, -0.4599],\n",
      "         [-0.3543,  0.5235, -0.8333],\n",
      "         [-0.8115, -0.8594,  0.3722],\n",
      "         [-0.7049, -0.7313,  0.5524]]], grad_fn=<TransposeBackward1>)\n",
      "torch.Size([1, 5, 3])\n",
      "tensor([[[-0.7049, -0.7313,  0.5524]]], grad_fn=<StackBackward0>)\n",
      "torch.Size([1, 1, 3])\n"
     ]
    }
   ],
   "source": [
    "# 单向、单层rnn\n",
    "single_rnn = nn.RNN(input_size=4, hidden_size=3, num_layers=1, batch_first=True) # batch_first=True表示输入数据的维度为[batch_size, seq_len, input_size]\n",
    "input = torch.randn(1, 5, 4) # 输入数据维度为[batch_size, seq_len, input_size]\n",
    "output, h_n = single_rnn(input) # output维度为[batch_size, seq_len, hidden_size=3]，h_n维度为[num_layers=1, batch_size, hidden_size=3]\n",
    "print(output, output.shape, h_n, h_n.shape,  sep='\\n')"
   ]
  },
  {
   "cell_type": "code",
   "execution_count": 3,
   "id": "6fdc7e1b-e015-4be3-8047-567c8c42f78c",
   "metadata": {},
   "outputs": [
    {
     "data": {
      "text/plain": [
       "tensor([[-0.3543,  0.5235, -0.8333]], grad_fn=<SliceBackward0>)"
      ]
     },
     "execution_count": 3,
     "metadata": {},
     "output_type": "execute_result"
    }
   ],
   "source": [
    "output[:, 2, :] "
   ]
  },
  {
   "cell_type": "code",
   "execution_count": 4,
   "id": "06c81d55-80f1-496e-8c00-57db4bf6edc4",
   "metadata": {},
   "outputs": [
    {
     "name": "stdout",
     "output_type": "stream",
     "text": [
      "tensor([[[-0.9372,  0.0044,  0.1953,  0.5167, -0.8242, -0.9832],\n",
      "         [-0.4407,  0.8089, -0.0052,  0.9857, -0.6660, -0.7070],\n",
      "         [-0.8628, -0.7891,  0.0801,  0.8280, -0.8767,  0.7452],\n",
      "         [-0.4347,  0.7187, -0.8896,  0.9714,  0.7405,  0.8707],\n",
      "         [-0.5838, -0.3942, -0.0465,  0.9107,  0.6390,  0.6951]]],\n",
      "       grad_fn=<TransposeBackward1>)\n",
      "torch.Size([1, 5, 6])\n",
      "tensor([[[-0.5838, -0.3942, -0.0465]],\n",
      "\n",
      "        [[ 0.5167, -0.8242, -0.9832]]], grad_fn=<StackBackward0>)\n",
      "torch.Size([2, 1, 3])\n"
     ]
    }
   ],
   "source": [
    "# 双向、单层rnn\n",
    "bi_rnn = nn.RNN(input_size=4, hidden_size=3, num_layers=1, batch_first=True, bidirectional=True)\n",
    "bi_output, bi_h_n = bi_rnn(input)\n",
    "print(bi_output, bi_output.shape, bi_h_n, bi_h_n.shape, sep='\\n')"
   ]
  },
  {
   "cell_type": "markdown",
   "id": "6af0b04f-d59f-421a-b5b8-6d8f87b8d06e",
   "metadata": {},
   "source": [
    "# 从零手搓 RNN "
   ]
  },
  {
   "cell_type": "markdown",
   "id": "2943a164-b997-4947-bce8-8618b421ef3d",
   "metadata": {},
   "source": [
    "## forword"
   ]
  },
  {
   "cell_type": "code",
   "execution_count": 5,
   "id": "b52299c8-f30e-4f86-8f39-c1a35116dd9f",
   "metadata": {},
   "outputs": [],
   "source": [
    "import torch\n",
    "import torch.nn as nn"
   ]
  },
  {
   "cell_type": "code",
   "execution_count": 21,
   "id": "546887fc-623d-4623-b271-a77b6bf0abb8",
   "metadata": {},
   "outputs": [],
   "source": [
    "batch_size, seq_len, input_size, hidden_size = 2, 3, 2, 3 # 批次大小、序列长度、输入维度、隐藏层维度\n",
    "num_layers = 1 # rnn层数\n",
    "\n",
    "input = torch.randn(batch_size, seq_len, input_size) # 初始化输入数据\n",
    "h_prev = torch.zeros(batch_size, hidden_size) # 初始化隐藏层状态"
   ]
  },
  {
   "cell_type": "code",
   "execution_count": 22,
   "id": "e3f88a14-5d14-4bcd-b790-461ea0e293f1",
   "metadata": {},
   "outputs": [],
   "source": [
    "class CustomRNN(nn.Module):\n",
    "    def __init__(self, input_size, hidden_size, num_layers, output_size):\n",
    "        super(CustomRNN, self).__init__()\n",
    "        self.hidden_size = hidden_size\n",
    "        self.num_layers = num_layers\n",
    "        self.input_size = input_size\n",
    "        self.W_ih = nn.Parameter(torch.rand(self.input_size, self.hidden_size))\n",
    "        self.W_hh = nn.Parameter(torch.rand(self.hidden_size, self.hidden_size))\n",
    "        self.b_ih = nn.Parameter(torch.zeros(self.hidden_size))\n",
    "        self.b_hh = nn.Parameter(torch.zeros(self.hidden_size))\n",
    "        self.fc = nn.Linear(self.hidden_size, output_size)\n",
    "\n",
    "    def forward(self, x, h_prev):\n",
    "        print(x.size())\n",
    "        batch_size, seq_length, _ = x.size()\n",
    "        hiddens = []\n",
    "        for t in range(seq_length):\n",
    "            x_t = x[:, t, :]\n",
    "            h_t = torch.tanh(torch.mm(x_t, self.W_ih) + self.b_ih + torch.mm(h_prev, self.W_hh) + self.b_hh)\n",
    "            hiddens.append(h_t)\n",
    "            h_prev = h_t\n",
    "        h_final = hiddens[-1]\n",
    "        output = self.fc(h_final)\n",
    "        return output, h_prev\n",
    "\n",
    "    def init_hidden(self, batch_size):\n",
    "        return torch.zeros(batch_size, self.hidden_size)\n",
    "\n",
    "\n"
   ]
  },
  {
   "cell_type": "markdown",
   "id": "c15c5864-7dc1-4c9d-ac3f-91dbfa93aebb",
   "metadata": {},
   "source": [
    "## 训练\n",
    "\n",
    "### 数据预处理\n",
    "- 读取数据集：\n",
    "  首先需要获取周杰伦的歌词数据集，可以从网络上搜索整理其歌词文本，将所有歌词保存到一个文本文件中，如jaychou_lyrics.txt。使用 Python 的open()函数读取文件内容，并进行必要的字符编码转换 。\n",
    "- 建立字符索引：\n",
    "将歌词中的每个字符映射为一个从 0 开始的连续整数索引，构建字符到索引的字典char_to_idx以及索引到字符的字典idx_to_char。通过遍历歌词文本，找出所有不同的字符，然后为每个字符分配一个唯一的索引。同时，可以得到词典大小vocab_size，即不同字符的数量 。\n",
    "- 数据采样:\n",
    "\n",
    "  对处理后的数据进行采样，以便生成训练所需的小批量数据。常见的采样方式有随机采样和相邻采样两种 ：\n",
    "- 随机采样：\n",
    "  每次从数据中随机选择一定长度的连续字符序列作为一个样本，同时对应的下一个字符作为该样本的标签。例如，若设定时间步数为num_steps，则每次随机选取num_steps个连续字符作为输入样本，其后面的一个字符作为输出标签。\n",
    "相邻采样：按照顺序依次选取连续的字符序列作为样本和标签，即第i个样本的输入是从i到i + num_steps - 1的字符序列，其标签则是从i + 1到i + num_steps的字符序列。"
   ]
  },
  {
   "cell_type": "code",
   "execution_count": 34,
   "id": "a97bd370-f7ce-40ce-a1b9-81581e393ae9",
   "metadata": {},
   "outputs": [
    {
     "ename": "NameError",
     "evalue": "name 'CustomRNN' is not defined",
     "output_type": "error",
     "traceback": [
      "\u001b[0;31m---------------------------------------------------------------------------\u001b[0m",
      "\u001b[0;31mNameError\u001b[0m                                 Traceback (most recent call last)",
      "Cell \u001b[0;32mIn[34], line 6\u001b[0m\n\u001b[1;32m      4\u001b[0m num_layers \u001b[38;5;241m=\u001b[39m \u001b[38;5;241m1\u001b[39m\n\u001b[1;32m      5\u001b[0m output_size \u001b[38;5;241m=\u001b[39m \u001b[38;5;241m100\u001b[39m\n\u001b[0;32m----> 6\u001b[0m rnn \u001b[38;5;241m=\u001b[39m \u001b[43mCustomRNN\u001b[49m(input_size, hidden_size, num_layers, output_size)\n\u001b[1;32m      8\u001b[0m \u001b[38;5;66;03m# 模拟输入数据（实际要根据歌词进行词向量等转换），这里假设一批次2条数据，序列长度5，维度为input_size\u001b[39;00m\n\u001b[1;32m      9\u001b[0m x \u001b[38;5;241m=\u001b[39m torch\u001b[38;5;241m.\u001b[39mrandn(\u001b[38;5;241m2\u001b[39m, \u001b[38;5;241m5\u001b[39m, input_size)\n",
      "\u001b[0;31mNameError\u001b[0m: name 'CustomRNN' is not defined"
     ]
    }
   ],
   "source": [
    "\n",
    "# 假设输入歌词维度、隐藏层维度、层数、输出维度等\n",
    "input_size = 100\n",
    "hidden_size = 256\n",
    "num_layers = 1\n",
    "output_size = 100\n",
    "rnn = CustomRNN(input_size, hidden_size, num_layers, output_size)\n",
    "\n",
    "# 模拟输入数据（实际要根据歌词进行词向量等转换），这里假设一批次2条数据，序列长度5，维度为input_size\n",
    "x = torch.randn(2, 5, input_size)\n",
    "optimizer = optim.Adam(rnn.parameters(), lr=0.001)\n",
    "criterion = nn.MSELoss()\n",
    "\n",
    "for epoch in range(10):\n",
    "    h_prev = rnn.init_hidden(2)\n",
    "    output, h_prev = rnn(x, h_prev)\n",
    "    loss = criterion(output, torch.randn(2, output_size))\n",
    "    optimizer.zero_grad()\n",
    "    loss.backward()\n",
    "    optimizer.step()\n",
    "    print(f'Epoch {epoch}, Loss: {loss.item()}')\n"
   ]
  },
  {
   "cell_type": "code",
   "execution_count": null,
   "id": "bda97458-2dfc-465e-86ec-92488878923c",
   "metadata": {},
   "outputs": [],
   "source": []
  },
  {
   "cell_type": "code",
   "execution_count": null,
   "id": "254eb864-0cc4-4bde-9697-0825c8973534",
   "metadata": {},
   "outputs": [],
   "source": []
  },
  {
   "cell_type": "markdown",
   "id": "a3dd3fbe-6bfe-41a1-8f2c-bd332d430b09",
   "metadata": {},
   "source": [
    "### 模型训练\n",
    "参数初始化：初始化模型的参数，如词嵌入维度embedding_dim、隐藏层维度hidden_dim等，并定义损失函数和优化器。例如，可以使用交叉熵损失函数nn.CrossEntropyLoss()和随机梯度下降优化器torch.optim.SGD() 。\n",
    "训练循环：在训练循环中，按照设定的批次大小和采样方式获取训练数据，将数据输入到模型中进行前向传播，计算损失值，然后使用优化器进行反向传播更新模型参数。在每个训练周期，可以打印出当前的损失值，以观察模型的训练进度 。"
   ]
  },
  {
   "cell_type": "code",
   "execution_count": 1,
   "id": "1929d48b-43d2-48fb-b9a0-db6967fd8fda",
   "metadata": {},
   "outputs": [],
   "source": [
    "def train(model, data_loader, criterion, optimizer, num_epochs):\n",
    "    for epoch in range(num_epochs):\n",
    "        hidden = None\n",
    "        total_loss = 0\n",
    "        for batch_x, batch_y in data_loader:\n",
    "            optimizer.zero_grad()\n",
    "            output, hidden = model(batch_x, hidden)\n",
    "            loss = criterion(output, batch_y.view(-1))\n",
    "            loss.backward()\n",
    "            torch.nn.utils.clip_grad_norm_(model.parameters(), max_norm=5)\n",
    "            optimizer.step()\n",
    "            total_loss += loss.item()\n",
    "            hidden = hidden.detach()\n",
    "        print(f'Epoch {epoch + 1}, Loss: {total_loss / len(data_loader)}')"
   ]
  },
  {
   "cell_type": "markdown",
   "id": "0ec35fc7-096d-4289-ae80-8ffefa1568cf",
   "metadata": {},
   "source": [
    "### 模型测试与效果评估\n",
    "- 生成歌词：训练完成后，可以使用训练好的模型来生成周杰伦风格的歌词。给定一个起始字符或字符序列，通过模型预测下一个可能的字符，然后将预测的字符作为新的输入，继续预测下一个字符，以此类推，生成一段歌词 。"
   ]
  },
  {
   "cell_type": "code",
   "execution_count": 2,
   "id": "a6ec35fb-0b34-47e5-8bc7-0c3b88eddfc6",
   "metadata": {},
   "outputs": [],
   "source": [
    "def generate_text(model, char_to_idx, idx_to_char, start_text, length):\n",
    "    model.eval()\n",
    "    with torch.no_grad():\n",
    "        input_text = torch.tensor([char_to_idx[char] for char in start_text]).unsqueeze(0)\n",
    "        hidden = None\n",
    "        generated_text = start_text\n",
    "        for _ in range(length):\n",
    "            output, hidden = model(input_text, hidden)\n",
    "            output_probs = torch.softmax(output, dim=1)\n",
    "            top_prob, top_idx = torch.topk(output_probs, k=1)\n",
    "            top_char = idx_to_char[top_idx.item()]\n",
    "            generated_text += top_char\n",
    "            input_text = torch.tensor([top_idx]).unsqueeze(0)\n",
    "        return generated_text"
   ]
  },
  {
   "cell_type": "markdown",
   "id": "f6a2de9b-b4b6-4a16-bd29-09dcec41cfa1",
   "metadata": {},
   "source": [
    "- 效果评估：可以从多个角度评估生成歌词的效果，如歌词的通顺性、连贯性、是否符合周杰伦的风格等。一种简单的方法是人工观察和评价生成的歌词，判断其是否具有一定的合理性和艺术感。也可以使用一些自动评估指标，如困惑度（Perplexity）等来定量地评估模型的性能，但困惑度指标并非完全能够准确反映生成文本的质量，仅供参考."
   ]
  },
  {
   "cell_type": "code",
   "execution_count": 3,
   "id": "3c8ca7fb-7be8-44e7-ae72-6d1c7393a861",
   "metadata": {},
   "outputs": [],
   "source": [
    "def calculate_perplexity(model, data_loader, criterion):\n",
    "    model.eval()\n",
    "    total_loss = 0\n",
    "    total_count = 0\n",
    "    with torch.no_grad():\n",
    "        for batch_x, batch_y in data_loader:\n",
    "            output, _ = model(batch_x, None)\n",
    "            loss = criterion(output, batch_y.view(-1))\n",
    "            total_loss += loss.item() * batch_y.numel()\n",
    "            total_count += batch_y.numel()\n",
    "    return torch.exp(torch.tensor(total_loss / total_count))"
   ]
  },
  {
   "cell_type": "markdown",
   "id": "b8876c42-584f-46b2-89a6-279b98a06663",
   "metadata": {},
   "source": [
    "通过以上步骤，就可以利用周杰伦的歌词训练 PyTorch RNN 模型，并对生成歌词的效果进行测试和评估 。需要注意的是，由于歌词的生成具有一定的主观性和创造性，模型的表现可能会因多种因素而有所不同，可通过调整模型结构、参数、训练数据等方式来进一步优化模型的性能 。"
   ]
  },
  {
   "cell_type": "code",
   "execution_count": null,
   "id": "1fad6d54-1307-44be-8bd5-e7f8f699e43d",
   "metadata": {},
   "outputs": [],
   "source": [
    "s"
   ]
  }
 ],
 "metadata": {
  "kernelspec": {
   "display_name": "PyTorch-2.0.0",
   "language": "python",
   "name": "pytorch-2.0.0"
  },
  "language_info": {
   "codemirror_mode": {
    "name": "ipython",
    "version": 3
   },
   "file_extension": ".py",
   "mimetype": "text/x-python",
   "name": "python",
   "nbconvert_exporter": "python",
   "pygments_lexer": "ipython3",
   "version": "3.9.11"
  }
 },
 "nbformat": 4,
 "nbformat_minor": 5
}
